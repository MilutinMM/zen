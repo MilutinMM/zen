{
 "cells": [
  {
   "cell_type": "code",
   "execution_count": 1,
   "metadata": {},
   "outputs": [],
   "source": [
    "import os\n",
    "\n",
    "os.environ['ZENODO_ACCESS_TOKEN'] = ''"
   ]
  },
  {
   "cell_type": "code",
   "execution_count": 2,
   "metadata": {},
   "outputs": [],
   "source": [
    "from zen import Zenodo\n",
    "\n",
    "zen = Zenodo('https://sandbox.zenodo.org', token = os.environ['ZENODO_ACCESS_TOKEN'])"
   ]
  },
  {
   "cell_type": "code",
   "execution_count": 5,
   "metadata": {},
   "outputs": [
    {
     "data": {
      "text/plain": [
       "{'total': 36, 'items': ['cc-pddc', 'cc-by-2.0', 'cc-by-3.0', 'cc-by-2.5', 'cc-by-4.0', 'cc-by-1.0', 'cc-by-nc-2.0', 'cc-by-nc-4.0', 'cc-by-sa-1.0', 'cc-by-sa-2.5']}"
      ]
     },
     "execution_count": 5,
     "metadata": {},
     "output_type": "execute_result"
    }
   ],
   "source": [
    "zen.licenses.list('cc', size=10)"
   ]
  },
  {
   "cell_type": "code",
   "execution_count": 6,
   "metadata": {},
   "outputs": [],
   "source": [
    "lic = zen.licenses.list('cc', size=10)"
   ]
  },
  {
   "cell_type": "code",
   "execution_count": 8,
   "metadata": {},
   "outputs": [
    {
     "name": "stdout",
     "output_type": "stream",
     "text": [
      "{'total': 36, 'items': ['cc-pddc', 'cc-by-2.0', 'cc-by-3.0', 'cc-by-2.5', 'cc-by-4.0', 'cc-by-1.0', 'cc-by-nc-2.0', 'cc-by-nc-4.0', 'cc-by-sa-1.0', 'cc-by-sa-2.5']}\n",
      "{'total': 36, 'items': ['cc-by-nc-2.5', 'cc-by-nd-3.0', 'cc-by-sa-3.0', 'cc-by-nd-1.0', 'cc-by-nd-2.5', 'cc-by-3.0-at', 'cc-by-3.0-us', 'cc-by-nc-1.0', 'cc-by-nc-3.0', 'cc-by-nd-2.0']}\n"
     ]
    },
    {
     "ename": "RuntimeError",
     "evalue": "generator raised StopIteration",
     "output_type": "error",
     "traceback": [
      "\u001b[0;31m---------------------------------------------------------------------------\u001b[0m",
      "\u001b[0;31mStopIteration\u001b[0m                             Traceback (most recent call last)",
      "File \u001b[0;32m~/gh/zen/zen/api.py:982\u001b[0m, in \u001b[0;36m_PagedData.pages\u001b[0;34m(self)\u001b[0m\n\u001b[1;32m    981\u001b[0m \u001b[38;5;28;01mwhile\u001b[39;00m \u001b[38;5;28;01mTrue\u001b[39;00m:\n\u001b[0;32m--> 982\u001b[0m     \u001b[38;5;28;01myield\u001b[39;00m \u001b[38;5;28;43mself\u001b[39;49m\u001b[38;5;241;43m.\u001b[39;49m\u001b[43mnext_page\u001b[49m\u001b[43m(\u001b[49m\u001b[43m)\u001b[49m\n",
      "File \u001b[0;32m~/gh/zen/zen/api.py:961\u001b[0m, in \u001b[0;36m_PagedData.next_page\u001b[0;34m(self)\u001b[0m\n\u001b[1;32m    960\u001b[0m     \u001b[38;5;28mself\u001b[39m\u001b[38;5;241m.\u001b[39m_pages_iter \u001b[38;5;241m=\u001b[39m \u001b[38;5;28mself\u001b[39m\u001b[38;5;241m.\u001b[39m_api\u001b[38;5;241m.\u001b[39mapi\u001b[38;5;241m.\u001b[39miter_pagination(\u001b[38;5;28mself\u001b[39m\u001b[38;5;241m.\u001b[39m_start_page, limit\u001b[38;5;241m=\u001b[39m\u001b[38;5;241m1\u001b[39m)\n\u001b[0;32m--> 961\u001b[0m \u001b[38;5;28mself\u001b[39m\u001b[38;5;241m.\u001b[39m_page \u001b[38;5;241m=\u001b[39m \u001b[38;5;28;43mnext\u001b[39;49m\u001b[43m(\u001b[49m\u001b[38;5;28;43mself\u001b[39;49m\u001b[38;5;241;43m.\u001b[39;49m\u001b[43m_pages_iter\u001b[49m\u001b[43m)\u001b[49m\n\u001b[1;32m    962\u001b[0m \u001b[38;5;28;01mreturn\u001b[39;00m \u001b[38;5;28mself\u001b[39m\n",
      "\u001b[0;31mStopIteration\u001b[0m: ",
      "\nThe above exception was the direct cause of the following exception:\n",
      "\u001b[0;31mRuntimeError\u001b[0m                              Traceback (most recent call last)",
      "Cell \u001b[0;32mIn[8], line 1\u001b[0m\n\u001b[0;32m----> 1\u001b[0m \u001b[38;5;28;01mfor\u001b[39;00m page \u001b[38;5;129;01min\u001b[39;00m lic\u001b[38;5;241m.\u001b[39mpages:\n\u001b[1;32m      2\u001b[0m     \u001b[38;5;28mprint\u001b[39m(page)\n",
      "\u001b[0;31mRuntimeError\u001b[0m: generator raised StopIteration"
     ]
    }
   ],
   "source": [
    "for page in lic.pages:\n",
    "    print(page)"
   ]
  },
  {
   "cell_type": "code",
   "execution_count": 12,
   "metadata": {},
   "outputs": [
    {
     "data": {
      "text/plain": [
       "['CC-BY-3.0-AT',\n",
       " 'CC-BY-3.0',\n",
       " 'CC-BY-2.5',\n",
       " 'CC-BY-2.5-AU',\n",
       " 'CC-BY-3.0-DE',\n",
       " 'CC-BY-3.0-IGO',\n",
       " 'CC0-1.0',\n",
       " 'CC-BY-4.0',\n",
       " 'CC-BY-3.0-NL',\n",
       " 'CC-BY-1.0',\n",
       " 'CC-BY-2.0',\n",
       " 'cc-nc',\n",
       " 'CC-BY-3.0-US',\n",
       " 'CC-BY-NC-4.0',\n",
       " 'CC-BY-SA-4.0',\n",
       " 'CC-BY-NC-2.5',\n",
       " 'CC-BY-NC-1.0',\n",
       " 'CC-BY-ND-3.0',\n",
       " 'CC-BY-SA-3.0',\n",
       " 'CC-PDDC']"
      ]
     },
     "execution_count": 12,
     "metadata": {},
     "output_type": "execute_result"
    }
   ],
   "source": [
    "list_page_entries(pp, lambda p: p['hits']['hits'], lambda e: e['id'])"
   ]
  },
  {
   "cell_type": "code",
   "execution_count": 15,
   "metadata": {},
   "outputs": [],
   "source": [
    "pp = zen.iter_pagination(zen.list_records({'q': 'Rolf Simoes', 'size': 10}), limit=1)"
   ]
  },
  {
   "cell_type": "code",
   "execution_count": 16,
   "metadata": {},
   "outputs": [
    {
     "data": {
      "text/plain": [
       "['ArduinoI2CSensorNetworkTwitter, including references and citation',\n",
       " 'minor typo',\n",
       " 'StoreRawSerialData: First Public Version',\n",
       " 'GRDC2NetCDF: GRDC2NetCDF v1.0.0',\n",
       " 'test-publish – Test repository to try linking with Zenodo',\n",
       " 'Dummy Document',\n",
       " 'Empowering citizen science through free and open source GIS',\n",
       " 'Cultural Influences on Information Quality: The Impact of Objectivity and Believability on Corporate Decision Making and Performance',\n",
       " 'Formal Worst-Case Timing Analysis of Ethernet TSN’s Burst-Limiting Shaper',\n",
       " 'Formal analysis based evaluation of software defined networking for time-sensitive Ethernet',\n",
       " 'INVITED: Towards Fail-Operational Ethernet Based In-Vehicle Networks',\n",
       " 'Formal Worst-Case Timing Analysis of Ethernet TSN’s Time-Aware and Peristaltic Shapers',\n",
       " 'Body Movement in Music Information Retrieval.',\n",
       " 'Gap opening planets in stellar irradiated disks',\n",
       " 'An Indo-Pacific damselfish well established in the southern Gulf of Mexico: prospects for a wider, adverse invasion',\n",
       " 'Formal timing analysis of CAN-to-Ethernet gateway strategies in automotive networks',\n",
       " 'Towards a Gesture Description Interchange Format',\n",
       " 'CyberSong',\n",
       " 'Resource usage templates and signatures for COTS multicore processors',\n",
       " 'Bananera Libertad']"
      ]
     },
     "execution_count": 16,
     "metadata": {},
     "output_type": "execute_result"
    }
   ],
   "source": [
    "list_page_entries(pp, lambda p: p['hits']['hits'], lambda e: e['metadata']['title'])"
   ]
  },
  {
   "cell_type": "code",
   "execution_count": 25,
   "metadata": {},
   "outputs": [],
   "source": [
    "dd = zen.list_depositions()"
   ]
  },
  {
   "cell_type": "code",
   "execution_count": 26,
   "metadata": {},
   "outputs": [
    {
     "data": {
      "text/plain": [
       "[{'checksum': '6eddeb0d7f6ab1a205cd0c46ee0f8cd2',\n",
       "  'filename': '00_modis_lst_trend.png',\n",
       "  'filesize': 440941,\n",
       "  'id': '6a4e0c4c-e718-4e58-878e-8f76f997e05d',\n",
       "  'links': {'download': 'https://sandbox.zenodo.org/api/files/5aeb15e7-4185-46c3-ac8a-da8437dd9bc9/00_modis_lst_trend.png',\n",
       "   'self': 'https://sandbox.zenodo.org/api/deposit/depositions/1221706/files/6a4e0c4c-e718-4e58-878e-8f76f997e05d'}}]"
      ]
     },
     "execution_count": 26,
     "metadata": {},
     "output_type": "execute_result"
    }
   ],
   "source": [
    "dd[0]['files']"
   ]
  },
  {
   "cell_type": "code",
   "execution_count": 27,
   "metadata": {},
   "outputs": [
    {
     "data": {
      "text/plain": [
       "[{'checksum': '6eddeb0d7f6ab1a205cd0c46ee0f8cd2',\n",
       "  'filename': '00_modis_lst_trend.png',\n",
       "  'filesize': 440941,\n",
       "  'id': '6a4e0c4c-e718-4e58-878e-8f76f997e05d',\n",
       "  'links': {'download': 'https://sandbox.zenodo.org/api/files/2121a5be-c83d-4205-bc5c-877e404d4fed/00_modis_lst_trend.png',\n",
       "   'self': 'https://sandbox.zenodo.org/api/deposit/depositions/1221706/files/6a4e0c4c-e718-4e58-878e-8f76f997e05d'}}]"
      ]
     },
     "execution_count": 27,
     "metadata": {},
     "output_type": "execute_result"
    }
   ],
   "source": [
    "zen.list_deposition_files(dd[0])"
   ]
  }
 ],
 "metadata": {
  "kernelspec": {
   "display_name": "base",
   "language": "python",
   "name": "python3"
  },
  "language_info": {
   "codemirror_mode": {
    "name": "ipython",
    "version": 3
   },
   "file_extension": ".py",
   "mimetype": "text/x-python",
   "name": "python",
   "nbconvert_exporter": "python",
   "pygments_lexer": "ipython3",
   "version": "3.8.10"
  },
  "orig_nbformat": 4
 },
 "nbformat": 4,
 "nbformat_minor": 2
}
