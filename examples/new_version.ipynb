{
 "cells": [
  {
   "cell_type": "code",
   "execution_count": 1,
   "metadata": {},
   "outputs": [],
   "source": [
    "from zen.zen import Zenodo\n",
    "import os"
   ]
  },
  {
   "cell_type": "code",
   "execution_count": 2,
   "metadata": {},
   "outputs": [],
   "source": [
    "os.environ['ZENODO_ACCESS_TOKEN'] = ''"
   ]
  },
  {
   "cell_type": "code",
   "execution_count": 3,
   "metadata": {},
   "outputs": [],
   "source": [
    "zen = Zenodo('https://zenodo.org', token=os.environ['ZENODO_ACCESS_TOKEN'])"
   ]
  },
  {
   "cell_type": "markdown",
   "metadata": {},
   "source": [
    "### Retrieve and organize the depositions"
   ]
  },
  {
   "cell_type": "code",
   "execution_count": 4,
   "metadata": {},
   "outputs": [],
   "source": [
    "dep_list = zen.depositions.list()"
   ]
  },
  {
   "cell_type": "code",
   "execution_count": 5,
   "metadata": {},
   "outputs": [
    {
     "data": {
      "text/plain": [
       "[Monthly aggregated Water Vapor MODIS MCD19A2 (1 km): Yearly time-series (2012-2022),\n",
       " Monthly aggregated Water Vapor MODIS MCD19A2 (1 km): Yearly time-series (2000-2011),\n",
       " Monthly aggregated Water Vapor MODIS MCD19A2 (1 km): Monthly time-series (2021-2022),\n",
       " Monthly aggregated Water Vapor MODIS MCD19A2 (1 km): Monthly time-series (2018-2020),\n",
       " Monthly aggregated Water Vapor MODIS MCD19A2 (1 km): Monthly time-series (2015-2017),\n",
       " Monthly aggregated Water Vapor MODIS MCD19A2 (1 km): Monthly time-series (2012-2014),\n",
       " Monthly aggregated Water Vapor MODIS MCD19A2 (1 km): Monthly time-series (2009-2011),\n",
       " Monthly aggregated Water Vapor MODIS MCD19A2 (1 km): Monthly time-series (2006-2008),\n",
       " Monthly aggregated Water Vapor MODIS MCD19A2 (1 km): Monthly time-series (2003-2005),\n",
       " Monthly aggregated Water Vapor MODIS MCD19A2 (1 km): Monthly time-series (2000-2002),\n",
       " Monthly aggregated Water Vapor MODIS MCD19A2 (1 km): Long-term data (2000-2022)]"
      ]
     },
     "execution_count": 5,
     "metadata": {},
     "output_type": "execute_result"
    }
   ],
   "source": [
    "dep_list"
   ]
  },
  {
   "cell_type": "code",
   "execution_count": 6,
   "metadata": {},
   "outputs": [],
   "source": [
    "dep_list.sort(key=lambda d: d.data['title'])"
   ]
  },
  {
   "cell_type": "code",
   "execution_count": 7,
   "metadata": {},
   "outputs": [
    {
     "data": {
      "text/plain": [
       "[Monthly aggregated Water Vapor MODIS MCD19A2 (1 km): Long-term data (2000-2022),\n",
       " Monthly aggregated Water Vapor MODIS MCD19A2 (1 km): Monthly time-series (2000-2002),\n",
       " Monthly aggregated Water Vapor MODIS MCD19A2 (1 km): Monthly time-series (2003-2005),\n",
       " Monthly aggregated Water Vapor MODIS MCD19A2 (1 km): Monthly time-series (2006-2008),\n",
       " Monthly aggregated Water Vapor MODIS MCD19A2 (1 km): Monthly time-series (2009-2011),\n",
       " Monthly aggregated Water Vapor MODIS MCD19A2 (1 km): Monthly time-series (2012-2014),\n",
       " Monthly aggregated Water Vapor MODIS MCD19A2 (1 km): Monthly time-series (2015-2017),\n",
       " Monthly aggregated Water Vapor MODIS MCD19A2 (1 km): Monthly time-series (2018-2020),\n",
       " Monthly aggregated Water Vapor MODIS MCD19A2 (1 km): Monthly time-series (2021-2022),\n",
       " Monthly aggregated Water Vapor MODIS MCD19A2 (1 km): Yearly time-series (2000-2011),\n",
       " Monthly aggregated Water Vapor MODIS MCD19A2 (1 km): Yearly time-series (2012-2022)]"
      ]
     },
     "execution_count": 7,
     "metadata": {},
     "output_type": "execute_result"
    }
   ],
   "source": [
    "dep_list"
   ]
  },
  {
   "cell_type": "markdown",
   "metadata": {},
   "source": [
    "### Create a new version of the depositions"
   ]
  },
  {
   "cell_type": "code",
   "execution_count": 15,
   "metadata": {},
   "outputs": [],
   "source": [
    "for d in dep_list:\n",
    "    d.new_version()"
   ]
  },
  {
   "cell_type": "markdown",
   "metadata": {},
   "source": [
    "### Update preview file (`'00_preview.png'`)"
   ]
  },
  {
   "cell_type": "code",
   "execution_count": 20,
   "metadata": {},
   "outputs": [
    {
     "data": {
      "text/plain": [
       "<zen.api.DepositionFiles at 0x156fcd8f710>"
      ]
     },
     "execution_count": 20,
     "metadata": {},
     "output_type": "execute_result"
    }
   ],
   "source": [
    "long_term_preview = r'C:\\Users\\Rolf\\Documents\\GitLab\\zendata\\wv\\00_preview_long-term.png'\n",
    "dep_list[0].files.create(long_term_preview, '00_preview.png')"
   ]
  },
  {
   "cell_type": "code",
   "execution_count": 22,
   "metadata": {},
   "outputs": [
    {
     "data": {
      "text/plain": [
       "<zen.api.DepositionFiles at 0x156fd1ae490>"
      ]
     },
     "execution_count": 22,
     "metadata": {},
     "output_type": "execute_result"
    }
   ],
   "source": [
    "monthly_preview = r'C:\\Users\\Rolf\\Documents\\GitLab\\zendata\\wv\\00_preview_monthly.png'\n",
    "dep_list[1].files.create(monthly_preview, '00_preview.png')\n",
    "dep_list[2].files.create(monthly_preview, '00_preview.png')\n",
    "dep_list[3].files.create(monthly_preview, '00_preview.png')\n",
    "dep_list[4].files.create(monthly_preview, '00_preview.png')\n",
    "dep_list[5].files.create(monthly_preview, '00_preview.png')\n",
    "dep_list[6].files.create(monthly_preview, '00_preview.png')\n",
    "dep_list[7].files.create(monthly_preview, '00_preview.png')\n",
    "dep_list[8].files.create(monthly_preview, '00_preview.png')"
   ]
  },
  {
   "cell_type": "code",
   "execution_count": 23,
   "metadata": {},
   "outputs": [
    {
     "data": {
      "text/plain": [
       "<zen.api.DepositionFiles at 0x156fd23a610>"
      ]
     },
     "execution_count": 23,
     "metadata": {},
     "output_type": "execute_result"
    }
   ],
   "source": [
    "yearly_preview = r'C:\\Users\\Rolf\\Documents\\GitLab\\zendata\\wv\\00_preview_yearly.png'\n",
    "dep_list[9].files.create(yearly_preview, '00_preview.png')\n",
    "dep_list[10].files.create(yearly_preview, '00_preview.png')"
   ]
  },
  {
   "cell_type": "markdown",
   "metadata": {},
   "source": [
    "### Update the `version` key for today's date"
   ]
  },
  {
   "cell_type": "code",
   "execution_count": 41,
   "metadata": {},
   "outputs": [],
   "source": [
    "from datetime import datetime\n",
    "new_version = 'v' + datetime.today().strftime('%Y%m%d')"
   ]
  },
  {
   "cell_type": "code",
   "execution_count": 43,
   "metadata": {},
   "outputs": [],
   "source": [
    "for d in dep_list:\n",
    "    d.metadata['version'] = new_version"
   ]
  },
  {
   "cell_type": "markdown",
   "metadata": {},
   "source": [
    "### Set navigation using the `related_identifiers` key"
   ]
  },
  {
   "cell_type": "code",
   "execution_count": 16,
   "metadata": {},
   "outputs": [
    {
     "data": {
      "text/plain": [
       "{'10.5281/zenodo.8226282': {'isContinuedBy': '10.5281/zenodo.8193024'},\n",
       " '10.5281/zenodo.8226283': {'continues': '10.5281/zenodo.8192544',\n",
       "  'isContinuedBy': '10.5281/zenodo.8193398'},\n",
       " '10.5281/zenodo.8226284': {'continues': '10.5281/zenodo.8193024',\n",
       "  'isContinuedBy': '10.5281/zenodo.8193729'},\n",
       " '10.5281/zenodo.8226285': {'continues': '10.5281/zenodo.8193398',\n",
       "  'isContinuedBy': '10.5281/zenodo.8193731'},\n",
       " '10.5281/zenodo.8226286': {'continues': '10.5281/zenodo.8193729',\n",
       "  'isContinuedBy': '10.5281/zenodo.8193733'},\n",
       " '10.5281/zenodo.8226288': {'continues': '10.5281/zenodo.8193731',\n",
       "  'isContinuedBy': '10.5281/zenodo.8193735'},\n",
       " '10.5281/zenodo.8226289': {'continues': '10.5281/zenodo.8193733',\n",
       "  'isContinuedBy': '10.5281/zenodo.8193737'},\n",
       " '10.5281/zenodo.8226290': {'continues': '10.5281/zenodo.8193735',\n",
       "  'isContinuedBy': '10.5281/zenodo.8193739'},\n",
       " '10.5281/zenodo.8226291': {'continues': '10.5281/zenodo.8193737',\n",
       "  'isContinuedBy': '10.5281/zenodo.8193741'},\n",
       " '10.5281/zenodo.8226292': {'continues': '10.5281/zenodo.8193739',\n",
       "  'isContinuedBy': '10.5281/zenodo.8193743'},\n",
       " '10.5281/zenodo.8226293': {'continues': '10.5281/zenodo.8193741'}}"
      ]
     },
     "execution_count": 16,
     "metadata": {},
     "output_type": "execute_result"
    }
   ],
   "source": [
    "{d.data['doi']: {r['relation']: r['identifier'] for r in d.metadata['related_identifiers']} for d in dep_list}"
   ]
  },
  {
   "cell_type": "code",
   "execution_count": null,
   "metadata": {},
   "outputs": [],
   "source": [
    "# Should this function be part of the package?\n",
    "zen.set_depositions_related_identifiers(dep_list)"
   ]
  },
  {
   "cell_type": "code",
   "execution_count": 46,
   "metadata": {},
   "outputs": [
    {
     "data": {
      "text/plain": [
       "{'10.5281/zenodo.8226282': {'isContinuedBy': '10.5281/zenodo.8226283'},\n",
       " '10.5281/zenodo.8226283': {'continues': '10.5281/zenodo.8226282',\n",
       "  'isContinuedBy': '10.5281/zenodo.8226284'},\n",
       " '10.5281/zenodo.8226284': {'continues': '10.5281/zenodo.8226283',\n",
       "  'isContinuedBy': '10.5281/zenodo.8226285'},\n",
       " '10.5281/zenodo.8226285': {'continues': '10.5281/zenodo.8226284',\n",
       "  'isContinuedBy': '10.5281/zenodo.8226286'},\n",
       " '10.5281/zenodo.8226286': {'continues': '10.5281/zenodo.8226285',\n",
       "  'isContinuedBy': '10.5281/zenodo.8226288'},\n",
       " '10.5281/zenodo.8226288': {'continues': '10.5281/zenodo.8226286',\n",
       "  'isContinuedBy': '10.5281/zenodo.8226289'},\n",
       " '10.5281/zenodo.8226289': {'continues': '10.5281/zenodo.8226288',\n",
       "  'isContinuedBy': '10.5281/zenodo.8226290'},\n",
       " '10.5281/zenodo.8226290': {'continues': '10.5281/zenodo.8226289',\n",
       "  'isContinuedBy': '10.5281/zenodo.8226291'},\n",
       " '10.5281/zenodo.8226291': {'continues': '10.5281/zenodo.8226290',\n",
       "  'isContinuedBy': '10.5281/zenodo.8226292'},\n",
       " '10.5281/zenodo.8226292': {'continues': '10.5281/zenodo.8226291',\n",
       "  'isContinuedBy': '10.5281/zenodo.8226293'},\n",
       " '10.5281/zenodo.8226293': {'continues': '10.5281/zenodo.8226292'}}"
      ]
     },
     "execution_count": 46,
     "metadata": {},
     "output_type": "execute_result"
    }
   ],
   "source": [
    "{d.data['doi']: {r['relation']: r['identifier'] for r in d.metadata['related_identifiers']} for d in dep_list}\n"
   ]
  },
  {
   "cell_type": "markdown",
   "metadata": {},
   "source": [
    "### Publish depositions"
   ]
  },
  {
   "cell_type": "code",
   "execution_count": 47,
   "metadata": {},
   "outputs": [],
   "source": [
    "for d in dep_list:\n",
    "    d.publish()"
   ]
  }
 ],
 "metadata": {
  "kernelspec": {
   "display_name": "Python 3",
   "language": "python",
   "name": "python3"
  },
  "language_info": {
   "codemirror_mode": {
    "name": "ipython",
    "version": 3
   },
   "file_extension": ".py",
   "mimetype": "text/x-python",
   "name": "python",
   "nbconvert_exporter": "python",
   "pygments_lexer": "ipython3",
   "version": "3.8.10"
  },
  "orig_nbformat": 4
 },
 "nbformat": 4,
 "nbformat_minor": 2
}
