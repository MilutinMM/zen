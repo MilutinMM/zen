{
 "cells": [
  {
   "cell_type": "markdown",
   "metadata": {},
   "source": [
    "### Generating a filename list"
   ]
  },
  {
   "cell_type": "code",
   "execution_count": 1,
   "metadata": {},
   "outputs": [],
   "source": [
    "from zen.files import FilesList, date_seq, delta"
   ]
  },
  {
   "cell_type": "code",
   "execution_count": 2,
   "metadata": {},
   "outputs": [],
   "source": [
    "# OEMC filename convention\n",
    "oemc_filename = \"{var_generic}_{var_procedure}_{variable}_{resolution}_{depth}_{start_date}_{end_date}_{bbox}_{epsg}_{version}.tif\""
   ]
  },
  {
   "cell_type": "code",
   "execution_count": 4,
   "metadata": {},
   "outputs": [
    {
     "name": "stderr",
     "output_type": "stream",
     "text": [
      "  0%|          | 0/96 [00:00<?, ?it/s]"
     ]
    },
    {
     "name": "stderr",
     "output_type": "stream",
     "text": [
      "100%|██████████| 96/96 [00:00<00:00, 127.60it/s]\n"
     ]
    }
   ],
   "source": [
    "# long-term\n",
    "long_term = FilesList(oemc_filename)\\\n",
    "    .expand(var_procedure =\\\n",
    "            [vp + m for vp in ['mcd19a2v061.seasconv.m.', 'mcd19a2v061.seasconv.sd.'] for m in\n",
    "             ['m01', 'm02', 'm03', 'm04', 'm05', 'm06', 'm07', 'm08', 'm09', 'm10', 'm11', 'm12']])\\\n",
    "    .expand(variable = ['p25', 'p50', 'p75', 'sd'])\\\n",
    "    .expand(var_generic = ['wv'], resolution = ['1km'], depth = ['s'], start_date = ['20000101'], end_date = ['20221231'],\n",
    "            bbox = ['go'], epsg = ['epsg.4326'], version = ['v20230619'])\\\n",
    "    .set_dir('http://192.168.1.30:8333/global/wv/')\\\n",
    "    .cache('wv/wv_long-term_files.json', num_threads=1, stop_on_error=True)"
   ]
  },
  {
   "cell_type": "code",
   "execution_count": 8,
   "metadata": {},
   "outputs": [],
   "source": [
    "# Reading from cache file\n",
    "long_term = FilesList.from_cache('wv/wv_long-term_files.json')"
   ]
  },
  {
   "cell_type": "markdown",
   "metadata": {},
   "source": [
    "### Create a new deposition and upload files"
   ]
  },
  {
   "cell_type": "code",
   "execution_count": 3,
   "metadata": {},
   "outputs": [],
   "source": [
    "from zen.api import Zenodo\n",
    "import os"
   ]
  },
  {
   "cell_type": "code",
   "execution_count": 4,
   "metadata": {},
   "outputs": [],
   "source": [
    "os.environ['ZENODO_ACCESS_TOKEN'] = ''"
   ]
  },
  {
   "cell_type": "code",
   "execution_count": 5,
   "metadata": {},
   "outputs": [],
   "source": [
    "# Conect to Zenodo's sandbox service\n",
    "zen = Zenodo('https://sandbox.zenodo.org', token=os.environ['ZENODO_ACCESS_TOKEN'])"
   ]
  },
  {
   "cell_type": "code",
   "execution_count": null,
   "metadata": {},
   "outputs": [],
   "source": [
    "# Create a new deposition\n",
    "new_deposition = zen.depositions.create()"
   ]
  },
  {
   "cell_type": "code",
   "execution_count": null,
   "metadata": {},
   "outputs": [],
   "source": [
    "# Upload files from long_term file list\n",
    "for file in long_term.path_list:\n",
    "    new_deposition.upload_file(file)"
   ]
  },
  {
   "cell_type": "code",
   "execution_count": null,
   "metadata": {},
   "outputs": [],
   "source": [
    "import json\n",
    "\n",
    "template = 'wv/wv_long-term_go_v20230619_2000_2022.json'\n",
    "with open(template, 'r') as file:\n",
    "    metadata = json.load(file)"
   ]
  },
  {
   "cell_type": "code",
   "execution_count": null,
   "metadata": {},
   "outputs": [],
   "source": [
    "new_deposition.metadata = metadata"
   ]
  },
  {
   "cell_type": "code",
   "execution_count": null,
   "metadata": {},
   "outputs": [],
   "source": [
    "# Publish dataset\n",
    "new_deposition.publish()"
   ]
  },
  {
   "cell_type": "markdown",
   "metadata": {},
   "source": [
    "### Setup topology of dataset depositions"
   ]
  },
  {
   "cell_type": "code",
   "execution_count": 6,
   "metadata": {},
   "outputs": [],
   "source": [
    "deposition_list = zen.depositions.list()"
   ]
  },
  {
   "cell_type": "code",
   "execution_count": 7,
   "metadata": {},
   "outputs": [],
   "source": [
    "deposition_list.sort(key=lambda d: d.title)"
   ]
  },
  {
   "cell_type": "code",
   "execution_count": 8,
   "metadata": {},
   "outputs": [
    {
     "data": {
      "text/plain": [
       "['Monthly aggregated Water Vapor MODIS MCD19A2 (1 km): Long-term data (2000-2022)',\n",
       " 'Monthly aggregated Water Vapor MODIS MCD19A2 (1 km): Monthly time-series (2000-2002)',\n",
       " 'Monthly aggregated Water Vapor MODIS MCD19A2 (1 km): Monthly time-series (2003-2005)',\n",
       " 'Monthly aggregated Water Vapor MODIS MCD19A2 (1 km): Monthly time-series (2006-2008)',\n",
       " 'Monthly aggregated Water Vapor MODIS MCD19A2 (1 km): Monthly time-series (2009-2011)',\n",
       " 'Monthly aggregated Water Vapor MODIS MCD19A2 (1 km): Monthly time-series (2012-2014)',\n",
       " 'Monthly aggregated Water Vapor MODIS MCD19A2 (1 km): Monthly time-series (2015-2017)',\n",
       " 'Monthly aggregated Water Vapor MODIS MCD19A2 (1 km): Monthly time-series (2018-2020)',\n",
       " 'Monthly aggregated Water Vapor MODIS MCD19A2 (1 km): Monthly time-series (2021-2022)',\n",
       " 'Monthly aggregated Water Vapor MODIS MCD19A2 (1 km): Yearly time-series (2000-2011)',\n",
       " 'Monthly aggregated Water Vapor MODIS MCD19A2 (1 km): Yearly time-series (2012-2022)']"
      ]
     },
     "execution_count": 8,
     "metadata": {},
     "output_type": "execute_result"
    }
   ],
   "source": [
    "# List depositions' title\n",
    "[d.title for d in deposition_list]"
   ]
  },
  {
   "cell_type": "code",
   "execution_count": null,
   "metadata": {},
   "outputs": [],
   "source": [
    "from zen.api import setup_linear_related_identifiers"
   ]
  },
  {
   "cell_type": "code",
   "execution_count": null,
   "metadata": {},
   "outputs": [],
   "source": [
    "# Switch depositions to edit mode\n",
    "for d in deposition_list:\n",
    "    d.edit()\n",
    "\n",
    "# Clear and setup a new set of deposition's relations\n",
    "setup_linear_related_identifiers(deposition_list)\n",
    "\n",
    "# Publish changes\n",
    "for d in deposition_list:\n",
    "    d.publish()"
   ]
  },
  {
   "cell_type": "markdown",
   "metadata": {},
   "source": [
    "### Computing dataset size"
   ]
  },
  {
   "cell_type": "code",
   "execution_count": 9,
   "metadata": {},
   "outputs": [
    {
     "data": {
      "text/plain": [
       "'/home/rolf/gl/zen/docs'"
      ]
     },
     "execution_count": 9,
     "metadata": {},
     "output_type": "execute_result"
    }
   ],
   "source": [
    "os.getcwd()"
   ]
  },
  {
   "cell_type": "code",
   "execution_count": 10,
   "metadata": {},
   "outputs": [],
   "source": [
    "os.chdir('../../zendata')"
   ]
  },
  {
   "cell_type": "code",
   "execution_count": 12,
   "metadata": {},
   "outputs": [
    {
     "name": "stderr",
     "output_type": "stream",
     "text": [
      "100%|██████████| 1375/1375 [00:02<00:00, 650.52it/s]\n"
     ]
    }
   ],
   "source": [
    "# monthly time-series dataset files\n",
    "monthly = FilesList(oemc_filename)\\\n",
    "    .expand(var_procedure = ['mcd19a2v061'])\\\n",
    "    .expand(variable = ['n'])\\\n",
    "    .merge(\n",
    "        FilesList(oemc_filename)\\\n",
    "            .expand(var_procedure = ['mcd19a2v061.seasconv', 'mcd19a2v061.seasconv.whittaker'])\\\n",
    "            .expand(variable = ['m', 'sd'])\n",
    "    )\\\n",
    "    .expand(start_date = date_seq('20000101', '20221231', delta(months=1))[1:],\n",
    "            end_date = date_seq('20000131', '20221231', delta(months=1))[1:])\\\n",
    "    .expand(var_generic = ['wv'], resolution = ['1km'], depth = ['s'], bbox = ['go'], \n",
    "            epsg = ['epsg.4326'], version = ['v20230619'])\\\n",
    "    .set_dir(\"http://192.168.1.30:8333/global/wv/\")\\\n",
    "    .cache('wv/wv_monthly_files.json', num_threads=10)"
   ]
  },
  {
   "cell_type": "code",
   "execution_count": 11,
   "metadata": {},
   "outputs": [],
   "source": [
    "# Open files list from cache\n",
    "monthly = FilesList.from_cache('wv/wv_monthly_files.json')"
   ]
  },
  {
   "cell_type": "code",
   "execution_count": 14,
   "metadata": {},
   "outputs": [
    {
     "data": {
      "text/plain": [
       "361.71041900200004"
      ]
     },
     "execution_count": 14,
     "metadata": {},
     "output_type": "execute_result"
    }
   ],
   "source": [
    "# Size in GB\n",
    "monthly.data_size() * 1e-9"
   ]
  },
  {
   "cell_type": "code",
   "execution_count": 15,
   "metadata": {},
   "outputs": [
    {
     "data": {
      "text/plain": [
       "15.726539956608697"
      ]
     },
     "execution_count": 15,
     "metadata": {},
     "output_type": "execute_result"
    }
   ],
   "source": [
    "# Average size by year (GB)\n",
    "monthly.data_size() * 1e-9 / 23"
   ]
  },
  {
   "cell_type": "markdown",
   "metadata": {},
   "source": [
    "### Splitting dataset and check uploaded files"
   ]
  },
  {
   "cell_type": "code",
   "execution_count": 22,
   "metadata": {},
   "outputs": [
    {
     "data": {
      "text/plain": [
       "'Monthly aggregated Water Vapor MODIS MCD19A2 (1 km): Monthly time-series (2018-2020)'"
      ]
     },
     "execution_count": 22,
     "metadata": {},
     "output_type": "execute_result"
    }
   ],
   "source": [
    "# Get deposition\n",
    "d_m18_20 = deposition_list[7]\n",
    "d_m18_20.title"
   ]
  },
  {
   "cell_type": "code",
   "execution_count": 23,
   "metadata": {},
   "outputs": [],
   "source": [
    "# Filter all files in deposition of monthly WV 2018-2020\n",
    "m18_20 = monthly.filter_matched(d_m18_20.files)"
   ]
  },
  {
   "cell_type": "code",
   "execution_count": 24,
   "metadata": {},
   "outputs": [],
   "source": [
    "# Alternative way to filter files list using placeholders' values in 'properties' key\n",
    "m18_20 = monthly.filter(lambda f: f['properties']['start_date'] >= '20180101' and f['properties']['end_date'] <= '20201231')"
   ]
  },
  {
   "cell_type": "code",
   "execution_count": 25,
   "metadata": {},
   "outputs": [],
   "source": [
    "files_to_update = m18_20\\\n",
    "    .filter_unmatched(d_m18_20.files, field = 'checksum')\\\n",
    "    .path_list()"
   ]
  },
  {
   "cell_type": "code",
   "execution_count": 26,
   "metadata": {},
   "outputs": [
    {
     "data": {
      "text/plain": [
       "['http://192.168.1.30:8333/global/wv/wv_mcd19a2v061.seasconv.whittaker_m_1km_s_20201101_20201130_go_epsg.4326_v20230619.tif']"
      ]
     },
     "execution_count": 26,
     "metadata": {},
     "output_type": "execute_result"
    }
   ],
   "source": [
    "# List of unmatched files\n",
    "files_to_update"
   ]
  },
  {
   "cell_type": "code",
   "execution_count": null,
   "metadata": {},
   "outputs": [],
   "source": [
    "# Upload again\n",
    "for file in files_to_update:\n",
    "    d_m18_20.upload_file(file)"
   ]
  }
 ],
 "metadata": {
  "kernelspec": {
   "display_name": "Python 3",
   "language": "python",
   "name": "python3"
  },
  "language_info": {
   "codemirror_mode": {
    "name": "ipython",
    "version": 3
   },
   "file_extension": ".py",
   "mimetype": "text/x-python",
   "name": "python",
   "nbconvert_exporter": "python",
   "pygments_lexer": "ipython3",
   "version": "3.8.10"
  },
  "orig_nbformat": 4
 },
 "nbformat": 4,
 "nbformat_minor": 2
}
