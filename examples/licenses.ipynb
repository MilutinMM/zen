{
 "cells": [
  {
   "cell_type": "code",
   "execution_count": 1,
   "metadata": {},
   "outputs": [],
   "source": [
    "from zen.api import Zenodo"
   ]
  },
  {
   "cell_type": "code",
   "execution_count": 2,
   "metadata": {},
   "outputs": [],
   "source": [
    "zen = Zenodo(url=Zenodo.sandbox_url, token='your_api_token')"
   ]
  },
  {
   "cell_type": "code",
   "execution_count": 3,
   "metadata": {},
   "outputs": [],
   "source": [
    "lic = zen.licenses.list('creative commons')"
   ]
  },
  {
   "cell_type": "code",
   "execution_count": 4,
   "metadata": {},
   "outputs": [
    {
     "data": {
      "text/plain": [
       "38"
      ]
     },
     "execution_count": 4,
     "metadata": {},
     "output_type": "execute_result"
    }
   ],
   "source": [
    "lic.total"
   ]
  },
  {
   "cell_type": "code",
   "execution_count": 5,
   "metadata": {},
   "outputs": [
    {
     "data": {
      "text/plain": [
       "{'total': 38, 'items': ['cc-by-2.0', 'cc-by-3.0', 'cc0-1.0', 'cc-by-2.5', 'cc-by-3.0-at', 'cc-by-4.0', 'cc-by-1.0', 'cc-by-3.0-us', 'cc-by-nc-2.0', 'cc-by-nc-4.0', 'cc-by-sa-1.0', 'cc-by-sa-2.5', 'cc-by-sa-3.0-at', 'cc-by-nc-2.5', 'cc-by-nd-3.0', 'cc-by-sa-3.0', 'cc-by-nd-1.0', 'cc-by-nd-2.5', 'cc-pddc', 'cc-by-nc-1.0', 'cc-by-nc-3.0', 'cc-by-nd-2.0', 'cc-by-nd-4.0', 'cc-by-sa-2.0', 'cc-by-sa-4.0']}"
      ]
     },
     "execution_count": 5,
     "metadata": {},
     "output_type": "execute_result"
    }
   ],
   "source": [
    "lic"
   ]
  },
  {
   "cell_type": "code",
   "execution_count": 8,
   "metadata": {},
   "outputs": [
    {
     "data": {
      "text/plain": [
       "25"
      ]
     },
     "execution_count": 8,
     "metadata": {},
     "output_type": "execute_result"
    }
   ],
   "source": [
    "len(lic)"
   ]
  },
  {
   "cell_type": "code",
   "execution_count": 9,
   "metadata": {},
   "outputs": [
    {
     "data": {
      "text/plain": [
       "{'total': 38, 'items': ['cc-by-nc-nd-1.0', 'cc-by-nc-nd-3.0-igo', 'cc-by-nc-nd-4.0', 'cc-by-nc-sa-3.0', 'cc-by-nc-nd-2.0', 'cc-by-nc-sa-2.0', 'cc-by-nc-sa-2.5', 'cc-by-nc-sa-4.0', 'cc-by-sa-2.0-uk', 'cc-by-nc-nd-3.0', 'cc-by-nc-nd-2.5', 'cc-by-nc-sa-1.0', 'odc-by-1.0']}"
      ]
     },
     "execution_count": 9,
     "metadata": {},
     "output_type": "execute_result"
    }
   ],
   "source": [
    "lic.next_page()"
   ]
  },
  {
   "cell_type": "code",
   "execution_count": 10,
   "metadata": {},
   "outputs": [
    {
     "data": {
      "text/plain": [
       "13"
      ]
     },
     "execution_count": 10,
     "metadata": {},
     "output_type": "execute_result"
    }
   ],
   "source": [
    "len(lic)"
   ]
  }
 ],
 "metadata": {
  "kernelspec": {
   "display_name": "Python 3",
   "language": "python",
   "name": "python3"
  },
  "language_info": {
   "codemirror_mode": {
    "name": "ipython",
    "version": 3
   },
   "file_extension": ".py",
   "mimetype": "text/x-python",
   "name": "python",
   "nbconvert_exporter": "python",
   "pygments_lexer": "ipython3",
   "version": "3.8.10"
  }
 },
 "nbformat": 4,
 "nbformat_minor": 2
}
